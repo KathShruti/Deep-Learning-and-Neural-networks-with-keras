{
 "cells": [
  {
   "cell_type": "code",
   "execution_count": 1,
   "id": "4e1d148b-7437-47d1-8c9f-963c272b02d3",
   "metadata": {
    "tags": []
   },
   "outputs": [],
   "source": [
    "import pandas as pd\n",
    "import numpy as np\n",
    "#imported 2 libraries called the numpy and the pandas"
   ]
  },
  {
   "cell_type": "markdown",
   "id": "9eb52742-8b53-4cf0-8944-f78e6ecd9b28",
   "metadata": {
    "tags": []
   },
   "source": [
    "This is the data being used for the peer graded assessment.\n",
    "The dataset revolves around the compressive strength of various concrete samples, depending on the quantities of diverse components employed in their creation. These components encompass:\n",
    "\n",
    "1) Cement\n",
    "\n",
    "2) Blast Furnace Slag\n",
    "\n",
    "3) Fly Ash\n",
    "\n",
    "4) Water\n",
    "\n",
    "5) Superplasticizer\n",
    "\n",
    "6) Coarse Aggregate\n",
    "\n",
    "7) Fine Aggregate"
   ]
  },
  {
   "cell_type": "code",
   "execution_count": 3,
   "id": "f26c8e3b-d10e-49ed-b3e2-a5ee47f75caa",
   "metadata": {
    "tags": []
   },
   "outputs": [
    {
     "data": {
      "text/html": [
       "<div>\n",
       "<style scoped>\n",
       "    .dataframe tbody tr th:only-of-type {\n",
       "        vertical-align: middle;\n",
       "    }\n",
       "\n",
       "    .dataframe tbody tr th {\n",
       "        vertical-align: top;\n",
       "    }\n",
       "\n",
       "    .dataframe thead th {\n",
       "        text-align: right;\n",
       "    }\n",
       "</style>\n",
       "<table border=\"1\" class=\"dataframe\">\n",
       "  <thead>\n",
       "    <tr style=\"text-align: right;\">\n",
       "      <th></th>\n",
       "      <th>Cement</th>\n",
       "      <th>Blast Furnace Slag</th>\n",
       "      <th>Fly Ash</th>\n",
       "      <th>Water</th>\n",
       "      <th>Superplasticizer</th>\n",
       "      <th>Coarse Aggregate</th>\n",
       "      <th>Fine Aggregate</th>\n",
       "      <th>Age</th>\n",
       "      <th>Strength</th>\n",
       "    </tr>\n",
       "  </thead>\n",
       "  <tbody>\n",
       "    <tr>\n",
       "      <th>0</th>\n",
       "      <td>540.0</td>\n",
       "      <td>0.0</td>\n",
       "      <td>0.0</td>\n",
       "      <td>162.0</td>\n",
       "      <td>2.5</td>\n",
       "      <td>1040.0</td>\n",
       "      <td>676.0</td>\n",
       "      <td>28</td>\n",
       "      <td>79.99</td>\n",
       "    </tr>\n",
       "    <tr>\n",
       "      <th>1</th>\n",
       "      <td>540.0</td>\n",
       "      <td>0.0</td>\n",
       "      <td>0.0</td>\n",
       "      <td>162.0</td>\n",
       "      <td>2.5</td>\n",
       "      <td>1055.0</td>\n",
       "      <td>676.0</td>\n",
       "      <td>28</td>\n",
       "      <td>61.89</td>\n",
       "    </tr>\n",
       "    <tr>\n",
       "      <th>2</th>\n",
       "      <td>332.5</td>\n",
       "      <td>142.5</td>\n",
       "      <td>0.0</td>\n",
       "      <td>228.0</td>\n",
       "      <td>0.0</td>\n",
       "      <td>932.0</td>\n",
       "      <td>594.0</td>\n",
       "      <td>270</td>\n",
       "      <td>40.27</td>\n",
       "    </tr>\n",
       "    <tr>\n",
       "      <th>3</th>\n",
       "      <td>332.5</td>\n",
       "      <td>142.5</td>\n",
       "      <td>0.0</td>\n",
       "      <td>228.0</td>\n",
       "      <td>0.0</td>\n",
       "      <td>932.0</td>\n",
       "      <td>594.0</td>\n",
       "      <td>365</td>\n",
       "      <td>41.05</td>\n",
       "    </tr>\n",
       "    <tr>\n",
       "      <th>4</th>\n",
       "      <td>198.6</td>\n",
       "      <td>132.4</td>\n",
       "      <td>0.0</td>\n",
       "      <td>192.0</td>\n",
       "      <td>0.0</td>\n",
       "      <td>978.4</td>\n",
       "      <td>825.5</td>\n",
       "      <td>360</td>\n",
       "      <td>44.30</td>\n",
       "    </tr>\n",
       "  </tbody>\n",
       "</table>\n",
       "</div>"
      ],
      "text/plain": [
       "   Cement  Blast Furnace Slag  Fly Ash  Water  Superplasticizer  \\\n",
       "0   540.0                 0.0      0.0  162.0               2.5   \n",
       "1   540.0                 0.0      0.0  162.0               2.5   \n",
       "2   332.5               142.5      0.0  228.0               0.0   \n",
       "3   332.5               142.5      0.0  228.0               0.0   \n",
       "4   198.6               132.4      0.0  192.0               0.0   \n",
       "\n",
       "   Coarse Aggregate  Fine Aggregate  Age  Strength  \n",
       "0            1040.0           676.0   28     79.99  \n",
       "1            1055.0           676.0   28     61.89  \n",
       "2             932.0           594.0  270     40.27  \n",
       "3             932.0           594.0  365     41.05  \n",
       "4             978.4           825.5  360     44.30  "
      ]
     },
     "execution_count": 3,
     "metadata": {},
     "output_type": "execute_result"
    }
   ],
   "source": [
    "#Reading the data through the data dataframe \n",
    "concrete_data = pd.read_csv('concrete_data.csv')\n",
    "concrete_data.head()  #printing the first five rows of the dataset."
   ]
  },
  {
   "cell_type": "markdown",
   "id": "2f1a5421-4ba5-4214-92b9-6359d22e8782",
   "metadata": {},
   "source": [
    "So here we know that the first concrete sample has 540 cubic meter of cement, zero blast furnace slag, zero fly ash, 162 cubic meter of water,2.5 cubic meter of superplatsicizer, 1040 cubic meter of coarse aggregate, 676 cubic meter of fine aggregate, 28 is the age and 79.99 is the strength."
   ]
  },
  {
   "cell_type": "code",
   "execution_count": 4,
   "id": "1dc928af-fa0d-4789-ab78-305e5d3f5294",
   "metadata": {
    "tags": []
   },
   "outputs": [
    {
     "data": {
      "text/plain": [
       "(1030, 9)"
      ]
     },
     "execution_count": 4,
     "metadata": {},
     "output_type": "execute_result"
    }
   ],
   "source": [
    "#Checking the total number of data points \n",
    "concrete_data.shape"
   ]
  },
  {
   "cell_type": "code",
   "execution_count": 5,
   "id": "417fb8c8-827a-431f-975a-342545e4b4e1",
   "metadata": {
    "tags": []
   },
   "outputs": [
    {
     "data": {
      "text/html": [
       "<div>\n",
       "<style scoped>\n",
       "    .dataframe tbody tr th:only-of-type {\n",
       "        vertical-align: middle;\n",
       "    }\n",
       "\n",
       "    .dataframe tbody tr th {\n",
       "        vertical-align: top;\n",
       "    }\n",
       "\n",
       "    .dataframe thead th {\n",
       "        text-align: right;\n",
       "    }\n",
       "</style>\n",
       "<table border=\"1\" class=\"dataframe\">\n",
       "  <thead>\n",
       "    <tr style=\"text-align: right;\">\n",
       "      <th></th>\n",
       "      <th>Cement</th>\n",
       "      <th>Blast Furnace Slag</th>\n",
       "      <th>Fly Ash</th>\n",
       "      <th>Water</th>\n",
       "      <th>Superplasticizer</th>\n",
       "      <th>Coarse Aggregate</th>\n",
       "      <th>Fine Aggregate</th>\n",
       "      <th>Age</th>\n",
       "      <th>Strength</th>\n",
       "    </tr>\n",
       "  </thead>\n",
       "  <tbody>\n",
       "    <tr>\n",
       "      <th>count</th>\n",
       "      <td>1030.000000</td>\n",
       "      <td>1030.000000</td>\n",
       "      <td>1030.000000</td>\n",
       "      <td>1030.000000</td>\n",
       "      <td>1030.000000</td>\n",
       "      <td>1030.000000</td>\n",
       "      <td>1030.000000</td>\n",
       "      <td>1030.000000</td>\n",
       "      <td>1030.000000</td>\n",
       "    </tr>\n",
       "    <tr>\n",
       "      <th>mean</th>\n",
       "      <td>281.167864</td>\n",
       "      <td>73.895825</td>\n",
       "      <td>54.188350</td>\n",
       "      <td>181.567282</td>\n",
       "      <td>6.204660</td>\n",
       "      <td>972.918932</td>\n",
       "      <td>773.580485</td>\n",
       "      <td>45.662136</td>\n",
       "      <td>35.817961</td>\n",
       "    </tr>\n",
       "    <tr>\n",
       "      <th>std</th>\n",
       "      <td>104.506364</td>\n",
       "      <td>86.279342</td>\n",
       "      <td>63.997004</td>\n",
       "      <td>21.354219</td>\n",
       "      <td>5.973841</td>\n",
       "      <td>77.753954</td>\n",
       "      <td>80.175980</td>\n",
       "      <td>63.169912</td>\n",
       "      <td>16.705742</td>\n",
       "    </tr>\n",
       "    <tr>\n",
       "      <th>min</th>\n",
       "      <td>102.000000</td>\n",
       "      <td>0.000000</td>\n",
       "      <td>0.000000</td>\n",
       "      <td>121.800000</td>\n",
       "      <td>0.000000</td>\n",
       "      <td>801.000000</td>\n",
       "      <td>594.000000</td>\n",
       "      <td>1.000000</td>\n",
       "      <td>2.330000</td>\n",
       "    </tr>\n",
       "    <tr>\n",
       "      <th>25%</th>\n",
       "      <td>192.375000</td>\n",
       "      <td>0.000000</td>\n",
       "      <td>0.000000</td>\n",
       "      <td>164.900000</td>\n",
       "      <td>0.000000</td>\n",
       "      <td>932.000000</td>\n",
       "      <td>730.950000</td>\n",
       "      <td>7.000000</td>\n",
       "      <td>23.710000</td>\n",
       "    </tr>\n",
       "    <tr>\n",
       "      <th>50%</th>\n",
       "      <td>272.900000</td>\n",
       "      <td>22.000000</td>\n",
       "      <td>0.000000</td>\n",
       "      <td>185.000000</td>\n",
       "      <td>6.400000</td>\n",
       "      <td>968.000000</td>\n",
       "      <td>779.500000</td>\n",
       "      <td>28.000000</td>\n",
       "      <td>34.445000</td>\n",
       "    </tr>\n",
       "    <tr>\n",
       "      <th>75%</th>\n",
       "      <td>350.000000</td>\n",
       "      <td>142.950000</td>\n",
       "      <td>118.300000</td>\n",
       "      <td>192.000000</td>\n",
       "      <td>10.200000</td>\n",
       "      <td>1029.400000</td>\n",
       "      <td>824.000000</td>\n",
       "      <td>56.000000</td>\n",
       "      <td>46.135000</td>\n",
       "    </tr>\n",
       "    <tr>\n",
       "      <th>max</th>\n",
       "      <td>540.000000</td>\n",
       "      <td>359.400000</td>\n",
       "      <td>200.100000</td>\n",
       "      <td>247.000000</td>\n",
       "      <td>32.200000</td>\n",
       "      <td>1145.000000</td>\n",
       "      <td>992.600000</td>\n",
       "      <td>365.000000</td>\n",
       "      <td>82.600000</td>\n",
       "    </tr>\n",
       "  </tbody>\n",
       "</table>\n",
       "</div>"
      ],
      "text/plain": [
       "            Cement  Blast Furnace Slag      Fly Ash        Water  \\\n",
       "count  1030.000000         1030.000000  1030.000000  1030.000000   \n",
       "mean    281.167864           73.895825    54.188350   181.567282   \n",
       "std     104.506364           86.279342    63.997004    21.354219   \n",
       "min     102.000000            0.000000     0.000000   121.800000   \n",
       "25%     192.375000            0.000000     0.000000   164.900000   \n",
       "50%     272.900000           22.000000     0.000000   185.000000   \n",
       "75%     350.000000          142.950000   118.300000   192.000000   \n",
       "max     540.000000          359.400000   200.100000   247.000000   \n",
       "\n",
       "       Superplasticizer  Coarse Aggregate  Fine Aggregate          Age  \\\n",
       "count       1030.000000       1030.000000     1030.000000  1030.000000   \n",
       "mean           6.204660        972.918932      773.580485    45.662136   \n",
       "std            5.973841         77.753954       80.175980    63.169912   \n",
       "min            0.000000        801.000000      594.000000     1.000000   \n",
       "25%            0.000000        932.000000      730.950000     7.000000   \n",
       "50%            6.400000        968.000000      779.500000    28.000000   \n",
       "75%           10.200000       1029.400000      824.000000    56.000000   \n",
       "max           32.200000       1145.000000      992.600000   365.000000   \n",
       "\n",
       "          Strength  \n",
       "count  1030.000000  \n",
       "mean     35.817961  \n",
       "std      16.705742  \n",
       "min       2.330000  \n",
       "25%      23.710000  \n",
       "50%      34.445000  \n",
       "75%      46.135000  \n",
       "max      82.600000  "
      ]
     },
     "execution_count": 5,
     "metadata": {},
     "output_type": "execute_result"
    }
   ],
   "source": [
    "#Checking data for any missing values \n",
    "concrete_data.describe()"
   ]
  },
  {
   "cell_type": "code",
   "execution_count": 6,
   "id": "444048b9-140e-47c8-8d61-e7935971dd95",
   "metadata": {
    "tags": []
   },
   "outputs": [
    {
     "data": {
      "text/plain": [
       "Cement                0\n",
       "Blast Furnace Slag    0\n",
       "Fly Ash               0\n",
       "Water                 0\n",
       "Superplasticizer      0\n",
       "Coarse Aggregate      0\n",
       "Fine Aggregate        0\n",
       "Age                   0\n",
       "Strength              0\n",
       "dtype: int64"
      ]
     },
     "execution_count": 6,
     "metadata": {},
     "output_type": "execute_result"
    }
   ],
   "source": [
    "# Removing all null data from the dataset \n",
    "concrete_data.isnull().sum()"
   ]
  },
  {
   "cell_type": "markdown",
   "id": "ca87f175-a00f-42d4-940b-20831b868d08",
   "metadata": {},
   "source": [
    "As the data has no null values so now we can use this data to train our model."
   ]
  },
  {
   "cell_type": "markdown",
   "id": "45aed425-430b-496a-9f43-46fcb5f0d3ac",
   "metadata": {},
   "source": [
    "For creating a Regression or a classification model we always need to divide the columns into two called the predictors and the target."
   ]
  },
  {
   "cell_type": "code",
   "execution_count": 7,
   "id": "767bf1f5-853d-485e-ac69-da0f1db9b1bf",
   "metadata": {
    "tags": []
   },
   "outputs": [],
   "source": [
    "# Our target variable is Strength and others columns are the predictors\n",
    "concrete_data_columns = concrete_data.columns\n",
    "predictors = concrete_data[concrete_data_columns[concrete_data_columns != 'Strength']] # Every columns except Strength\n",
    "target = concrete_data['Strength']  # Strength column"
   ]
  },
  {
   "cell_type": "markdown",
   "id": "581b12eb-bb29-4f9a-9d10-f6731a6c5c36",
   "metadata": {},
   "source": [
    "Printing the predictors and the targets just to check the output"
   ]
  },
  {
   "cell_type": "code",
   "execution_count": 10,
   "id": "6602a973-5f87-432f-884f-ac26b9d960f7",
   "metadata": {
    "tags": []
   },
   "outputs": [
    {
     "data": {
      "text/plain": [
       "0    79.99\n",
       "1    61.89\n",
       "2    40.27\n",
       "3    41.05\n",
       "4    44.30\n",
       "Name: Strength, dtype: float64"
      ]
     },
     "execution_count": 10,
     "metadata": {},
     "output_type": "execute_result"
    }
   ],
   "source": [
    "target.head()  #As we have only 1 target variable so one column gets printed"
   ]
  },
  {
   "cell_type": "code",
   "execution_count": 11,
   "id": "39f33d75-0f12-43e1-a1db-d160de1eff81",
   "metadata": {
    "tags": []
   },
   "outputs": [
    {
     "data": {
      "text/html": [
       "<div>\n",
       "<style scoped>\n",
       "    .dataframe tbody tr th:only-of-type {\n",
       "        vertical-align: middle;\n",
       "    }\n",
       "\n",
       "    .dataframe tbody tr th {\n",
       "        vertical-align: top;\n",
       "    }\n",
       "\n",
       "    .dataframe thead th {\n",
       "        text-align: right;\n",
       "    }\n",
       "</style>\n",
       "<table border=\"1\" class=\"dataframe\">\n",
       "  <thead>\n",
       "    <tr style=\"text-align: right;\">\n",
       "      <th></th>\n",
       "      <th>Cement</th>\n",
       "      <th>Blast Furnace Slag</th>\n",
       "      <th>Fly Ash</th>\n",
       "      <th>Water</th>\n",
       "      <th>Superplasticizer</th>\n",
       "      <th>Coarse Aggregate</th>\n",
       "      <th>Fine Aggregate</th>\n",
       "      <th>Age</th>\n",
       "    </tr>\n",
       "  </thead>\n",
       "  <tbody>\n",
       "    <tr>\n",
       "      <th>0</th>\n",
       "      <td>540.0</td>\n",
       "      <td>0.0</td>\n",
       "      <td>0.0</td>\n",
       "      <td>162.0</td>\n",
       "      <td>2.5</td>\n",
       "      <td>1040.0</td>\n",
       "      <td>676.0</td>\n",
       "      <td>28</td>\n",
       "    </tr>\n",
       "    <tr>\n",
       "      <th>1</th>\n",
       "      <td>540.0</td>\n",
       "      <td>0.0</td>\n",
       "      <td>0.0</td>\n",
       "      <td>162.0</td>\n",
       "      <td>2.5</td>\n",
       "      <td>1055.0</td>\n",
       "      <td>676.0</td>\n",
       "      <td>28</td>\n",
       "    </tr>\n",
       "    <tr>\n",
       "      <th>2</th>\n",
       "      <td>332.5</td>\n",
       "      <td>142.5</td>\n",
       "      <td>0.0</td>\n",
       "      <td>228.0</td>\n",
       "      <td>0.0</td>\n",
       "      <td>932.0</td>\n",
       "      <td>594.0</td>\n",
       "      <td>270</td>\n",
       "    </tr>\n",
       "    <tr>\n",
       "      <th>3</th>\n",
       "      <td>332.5</td>\n",
       "      <td>142.5</td>\n",
       "      <td>0.0</td>\n",
       "      <td>228.0</td>\n",
       "      <td>0.0</td>\n",
       "      <td>932.0</td>\n",
       "      <td>594.0</td>\n",
       "      <td>365</td>\n",
       "    </tr>\n",
       "    <tr>\n",
       "      <th>4</th>\n",
       "      <td>198.6</td>\n",
       "      <td>132.4</td>\n",
       "      <td>0.0</td>\n",
       "      <td>192.0</td>\n",
       "      <td>0.0</td>\n",
       "      <td>978.4</td>\n",
       "      <td>825.5</td>\n",
       "      <td>360</td>\n",
       "    </tr>\n",
       "  </tbody>\n",
       "</table>\n",
       "</div>"
      ],
      "text/plain": [
       "   Cement  Blast Furnace Slag  Fly Ash  Water  Superplasticizer  \\\n",
       "0   540.0                 0.0      0.0  162.0               2.5   \n",
       "1   540.0                 0.0      0.0  162.0               2.5   \n",
       "2   332.5               142.5      0.0  228.0               0.0   \n",
       "3   332.5               142.5      0.0  228.0               0.0   \n",
       "4   198.6               132.4      0.0  192.0               0.0   \n",
       "\n",
       "   Coarse Aggregate  Fine Aggregate  Age  \n",
       "0            1040.0           676.0   28  \n",
       "1            1055.0           676.0   28  \n",
       "2             932.0           594.0  270  \n",
       "3             932.0           594.0  365  \n",
       "4             978.4           825.5  360  "
      ]
     },
     "execution_count": 11,
     "metadata": {},
     "output_type": "execute_result"
    }
   ],
   "source": [
    "predictors.head()"
   ]
  },
  {
   "cell_type": "code",
   "execution_count": 12,
   "id": "bfa46d89-f728-4599-aded-821fb2635c69",
   "metadata": {
    "tags": []
   },
   "outputs": [
    {
     "data": {
      "text/plain": [
       "8"
      ]
     },
     "execution_count": 12,
     "metadata": {},
     "output_type": "execute_result"
    }
   ],
   "source": [
    "#Checking the number of predictors \n",
    "num_cols = predictors.shape[1]\n",
    "num_cols"
   ]
  },
  {
   "cell_type": "markdown",
   "id": "0d75e42d-3e23-469d-b650-615ca3797f33",
   "metadata": {},
   "source": [
    "Moving forward we import keras and start building our regression model"
   ]
  },
  {
   "cell_type": "code",
   "execution_count": 16,
   "id": "1e010d80-6cb5-4172-9027-e402396a8012",
   "metadata": {
    "tags": []
   },
   "outputs": [],
   "source": [
    "import keras     #Keras is always imported from the backend tensorflow"
   ]
  },
  {
   "cell_type": "code",
   "execution_count": 18,
   "id": "d847ef17-c67c-43ca-ac08-1aecf53d38e0",
   "metadata": {
    "tags": []
   },
   "outputs": [],
   "source": [
    "from keras.models import Sequential    #We are importing the sequential layer from keras which helps us to create a model layer by layer in a linear stack\n",
    "from keras.layers import Dense    #A dense layer is imported from layers to form a fully connected neural network layer"
   ]
  },
  {
   "cell_type": "markdown",
   "id": "a4e85bc1-91b4-40b1-9b9f-4e3b68031a1a",
   "metadata": {},
   "source": [
    "Creating the regression model"
   ]
  },
  {
   "cell_type": "code",
   "execution_count": 29,
   "id": "09006416-2aff-466d-b3eb-27a3f8ee1182",
   "metadata": {
    "tags": []
   },
   "outputs": [],
   "source": [
    "def regression_model():    #Created a function to create a regression model.\n",
    "    model = Sequential()\n",
    "    model.add(Dense(10, activation='relu', input_shape=(num_cols,)))   #This contains 10 nodes with the relu activation function(1st hidden layer)\n",
    "    model.add(Dense(1))  #Ouput layer\n",
    "\n",
    "    model.compile(optimizer='adam', loss='mean_squared_error')  #Compiling the model with the optimizer adam and keeping the loss as MSE.\n",
    "    return model"
   ]
  },
  {
   "cell_type": "markdown",
   "id": "322e941c-53b1-4341-acb0-c408cbaf93aa",
   "metadata": {},
   "source": [
    "Now we want to split the data so we will have to import sklearn to train and test the data"
   ]
  },
  {
   "cell_type": "code",
   "execution_count": 30,
   "id": "82615e1b-a547-4dfe-b6bf-8f3c69d205ad",
   "metadata": {
    "tags": []
   },
   "outputs": [],
   "source": [
    "from sklearn.model_selection import train_test_split"
   ]
  },
  {
   "cell_type": "markdown",
   "id": "07b676cd-10d4-4861-8e12-5bdd7599d356",
   "metadata": {},
   "source": [
    "Splitting the data into 70 % training and 30% testing data"
   ]
  },
  {
   "cell_type": "code",
   "execution_count": 31,
   "id": "cdbd5063-8c35-4308-ab56-f55cd454ab9f",
   "metadata": {
    "tags": []
   },
   "outputs": [],
   "source": [
    "X_train, X_test, y_train, y_test = train_test_split(predictors, target, test_size=0.3, random_state=42)"
   ]
  },
  {
   "cell_type": "markdown",
   "id": "00216f67-c515-42ed-bf94-d91087a23d3b",
   "metadata": {},
   "source": [
    "Now we have to build our model so we call the regression function here that we created above"
   ]
  },
  {
   "cell_type": "code",
   "execution_count": 32,
   "id": "c5884075-f349-4422-b308-ce9b887228b9",
   "metadata": {
    "tags": []
   },
   "outputs": [
    {
     "name": "stdout",
     "output_type": "stream",
     "text": [
      "WARNING:tensorflow:From /home/jupyterlab/conda/envs/python/lib/python3.7/site-packages/keras/backend/tensorflow_backend.py:508: The name tf.placeholder is deprecated. Please use tf.compat.v1.placeholder instead.\n",
      "\n",
      "WARNING:tensorflow:From /home/jupyterlab/conda/envs/python/lib/python3.7/site-packages/keras/backend/tensorflow_backend.py:3837: The name tf.random_uniform is deprecated. Please use tf.random.uniform instead.\n",
      "\n",
      "WARNING:tensorflow:From /home/jupyterlab/conda/envs/python/lib/python3.7/site-packages/keras/optimizers.py:757: The name tf.train.Optimizer is deprecated. Please use tf.compat.v1.train.Optimizer instead.\n",
      "\n"
     ]
    }
   ],
   "source": [
    "#Calling our model here\n",
    "model = regression_model()\n"
   ]
  },
  {
   "cell_type": "code",
   "execution_count": 35,
   "id": "bd6bcd5e-05cb-415e-a082-3a69e125a95c",
   "metadata": {
    "tags": []
   },
   "outputs": [
    {
     "name": "stdout",
     "output_type": "stream",
     "text": [
      "Epoch 1/50\n",
      "721/721 [==============================] - 0s 45us/step - loss: 119.0285\n",
      "Epoch 2/50\n",
      "721/721 [==============================] - 0s 74us/step - loss: 117.5786\n",
      "Epoch 3/50\n",
      "721/721 [==============================] - 0s 53us/step - loss: 115.0128\n",
      "Epoch 4/50\n",
      "721/721 [==============================] - 0s 56us/step - loss: 113.5443\n",
      "Epoch 5/50\n",
      "721/721 [==============================] - 0s 56us/step - loss: 112.1446\n",
      "Epoch 6/50\n",
      "721/721 [==============================] - 0s 76us/step - loss: 110.3606\n",
      "Epoch 7/50\n",
      "721/721 [==============================] - 0s 82us/step - loss: 110.3640\n",
      "Epoch 8/50\n",
      "721/721 [==============================] - 0s 54us/step - loss: 108.1255\n",
      "Epoch 9/50\n",
      "721/721 [==============================] - 0s 61us/step - loss: 106.8686\n",
      "Epoch 10/50\n",
      "721/721 [==============================] - 0s 62us/step - loss: 106.9790\n",
      "Epoch 11/50\n",
      "721/721 [==============================] - 0s 52us/step - loss: 104.4616\n",
      "Epoch 12/50\n",
      "721/721 [==============================] - 0s 65us/step - loss: 104.7470\n",
      "Epoch 13/50\n",
      "721/721 [==============================] - 0s 58us/step - loss: 102.6491\n",
      "Epoch 14/50\n",
      "721/721 [==============================] - 0s 58us/step - loss: 102.7467\n",
      "Epoch 15/50\n",
      "721/721 [==============================] - 0s 54us/step - loss: 101.2910\n",
      "Epoch 16/50\n",
      "721/721 [==============================] - 0s 58us/step - loss: 101.2409\n",
      "Epoch 17/50\n",
      "721/721 [==============================] - 0s 57us/step - loss: 99.5801\n",
      "Epoch 18/50\n",
      "721/721 [==============================] - 0s 60us/step - loss: 99.9939\n",
      "Epoch 19/50\n",
      "721/721 [==============================] - 0s 55us/step - loss: 97.5803\n",
      "Epoch 20/50\n",
      "721/721 [==============================] - 0s 68us/step - loss: 98.6281\n",
      "Epoch 21/50\n",
      "721/721 [==============================] - 0s 52us/step - loss: 96.4574\n",
      "Epoch 22/50\n",
      "721/721 [==============================] - 0s 56us/step - loss: 96.7699\n",
      "Epoch 23/50\n",
      "721/721 [==============================] - 0s 55us/step - loss: 95.8224\n",
      "Epoch 24/50\n",
      "721/721 [==============================] - 0s 56us/step - loss: 95.4093\n",
      "Epoch 25/50\n",
      "721/721 [==============================] - 0s 55us/step - loss: 95.3646\n",
      "Epoch 26/50\n",
      "721/721 [==============================] - 0s 56us/step - loss: 94.6026\n",
      "Epoch 27/50\n",
      "721/721 [==============================] - 0s 55us/step - loss: 93.6228\n",
      "Epoch 28/50\n",
      "721/721 [==============================] - 0s 59us/step - loss: 92.9884\n",
      "Epoch 29/50\n",
      "721/721 [==============================] - 0s 58us/step - loss: 93.4645\n",
      "Epoch 30/50\n",
      "721/721 [==============================] - 0s 54us/step - loss: 95.5514\n",
      "Epoch 31/50\n",
      "721/721 [==============================] - 0s 57us/step - loss: 93.2580\n",
      "Epoch 32/50\n",
      "721/721 [==============================] - 0s 56us/step - loss: 91.7609\n",
      "Epoch 33/50\n",
      "721/721 [==============================] - 0s 72us/step - loss: 93.8290\n",
      "Epoch 34/50\n",
      "721/721 [==============================] - 0s 60us/step - loss: 91.2195\n",
      "Epoch 35/50\n",
      "721/721 [==============================] - 0s 104us/step - loss: 92.3721\n",
      "Epoch 36/50\n",
      "721/721 [==============================] - 0s 77us/step - loss: 94.6896\n",
      "Epoch 37/50\n",
      "721/721 [==============================] - 0s 56us/step - loss: 91.1962\n",
      "Epoch 38/50\n",
      "721/721 [==============================] - 0s 60us/step - loss: 89.7611\n",
      "Epoch 39/50\n",
      "721/721 [==============================] - 0s 58us/step - loss: 90.6801\n",
      "Epoch 40/50\n",
      "721/721 [==============================] - 0s 53us/step - loss: 89.4455\n",
      "Epoch 41/50\n",
      "721/721 [==============================] - 0s 58us/step - loss: 89.0531\n",
      "Epoch 42/50\n",
      "721/721 [==============================] - 0s 72us/step - loss: 88.4546\n",
      "Epoch 43/50\n",
      "721/721 [==============================] - 0s 57us/step - loss: 89.3395\n",
      "Epoch 44/50\n",
      "721/721 [==============================] - 0s 62us/step - loss: 90.3647\n",
      "Epoch 45/50\n",
      "721/721 [==============================] - 0s 54us/step - loss: 87.9522\n",
      "Epoch 46/50\n",
      "721/721 [==============================] - 0s 56us/step - loss: 87.6454\n",
      "Epoch 47/50\n",
      "721/721 [==============================] - 0s 54us/step - loss: 87.7497\n",
      "Epoch 48/50\n",
      "721/721 [==============================] - 0s 44us/step - loss: 86.5776\n",
      "Epoch 49/50\n",
      "721/721 [==============================] - 0s 66us/step - loss: 87.8730\n",
      "Epoch 50/50\n",
      "721/721 [==============================] - 0s 58us/step - loss: 88.2644\n"
     ]
    },
    {
     "data": {
      "text/plain": [
       "<keras.callbacks.History at 0x7f55ac36be10>"
      ]
     },
     "execution_count": 35,
     "metadata": {},
     "output_type": "execute_result"
    }
   ],
   "source": [
    "#Training our model with epochs=50\n",
    "epochs = 50\n",
    "model.fit(X_train, y_train, epochs=epochs, verbose=1)"
   ]
  },
  {
   "cell_type": "markdown",
   "id": "ea1a8afa-0c52-4ff4-a4bd-7c0b4d46e2be",
   "metadata": {},
   "source": [
    "Now we evaluate the metrics for the model formed "
   ]
  },
  {
   "cell_type": "code",
   "execution_count": 36,
   "id": "8a11d211-3db4-4538-85ef-77a345e1fbf9",
   "metadata": {
    "tags": []
   },
   "outputs": [
    {
     "name": "stdout",
     "output_type": "stream",
     "text": [
      "309/309 [==============================] - 0s 54us/step\n"
     ]
    },
    {
     "data": {
      "text/plain": [
       "88.5624806178812"
      ]
     },
     "execution_count": 36,
     "metadata": {},
     "output_type": "execute_result"
    }
   ],
   "source": [
    "loss_val = model.evaluate(X_test, y_test)\n",
    "y_pred = model.predict(X_test)\n",
    "loss_val"
   ]
  },
  {
   "cell_type": "markdown",
   "id": "064453a9-8e18-4c69-8404-05e97d6023f7",
   "metadata": {},
   "source": [
    "As per the next step we need to compute the mean squared error"
   ]
  },
  {
   "cell_type": "code",
   "execution_count": 37,
   "id": "d25d51dc-5b21-4555-8222-01b2e8dc8a9a",
   "metadata": {
    "tags": []
   },
   "outputs": [],
   "source": [
    "from sklearn.metrics import mean_squared_error"
   ]
  },
  {
   "cell_type": "code",
   "execution_count": null,
   "id": "8034d046-8114-4450-ac48-c6b68ef3630e",
   "metadata": {
    "tags": []
   },
   "outputs": [],
   "source": [
    "#Printing the meand and standard deviation of the test data \n",
    "mean_square_error = mean_squared_error(y_test, y_pred)\n",
    "mean = np.mean(mean_square_error)\n",
    "standard_deviation = np.std(mean_square_error)\n",
    "print(mean, standard_deviation)"
   ]
  },
  {
   "cell_type": "markdown",
   "id": "4370a4b7-6f79-4861-ac38-c8510451e5d5",
   "metadata": {},
   "source": [
    "Creating a list of 50 mean squared errors."
   ]
  },
  {
   "cell_type": "markdown",
   "id": "dfba69ff-843a-460b-b38a-9749eda3448f",
   "metadata": {},
   "source": [
    "In the code below it iterates through a specified number of training and evaluation cycles (total_mean_squared_errors). In each cycle, the dataset is split into training and testing sets, and a neural network model is trained for a fixed number of epochs. The mean squared error (MSE) is then calculated for the model's predictions on the test set, and both the MSE and the mean squared error between true and predicted values are recorded. After the specified number of cycles, the code calculates and prints the mean and standard deviation of the collected mean squared errors, providing insights into the model's overall performance and its variability across multiple runs."
   ]
  },
  {
   "cell_type": "code",
   "execution_count": 40,
   "id": "c40ca777-49ec-4637-a0cd-ec8a53940360",
   "metadata": {
    "tags": []
   },
   "outputs": [
    {
     "name": "stdout",
     "output_type": "stream",
     "text": [
      "MSE 1: 60.95088588381277\n",
      "MSE 2: 59.251511434906895\n",
      "MSE 3: 47.29962247089275\n",
      "MSE 4: 55.29933651674141\n",
      "MSE 5: 47.79275491708305\n",
      "MSE 6: 63.485785968866935\n",
      "MSE 7: 60.85775623506713\n",
      "MSE 8: 52.96166507017265\n",
      "MSE 9: 52.03372523236815\n",
      "MSE 10: 52.94406905683499\n",
      "MSE 11: 48.641539329849785\n",
      "MSE 12: 49.58736862256689\n",
      "MSE 13: 64.00039180274149\n",
      "MSE 14: 51.817096500335005\n",
      "MSE 15: 50.96957493754267\n",
      "MSE 16: 45.11294789607471\n",
      "MSE 17: 67.65628194963276\n",
      "MSE 18: 58.7444251470967\n",
      "MSE 19: 44.14449104136248\n",
      "MSE 20: 48.52295504573094\n",
      "MSE 21: 47.21819172090697\n",
      "MSE 22: 47.96904576866372\n",
      "MSE 23: 53.69606167444519\n",
      "MSE 24: 46.77917398989779\n",
      "MSE 25: 49.72985276898134\n",
      "MSE 26: 49.42392861573056\n",
      "MSE 27: 55.66692870797463\n",
      "MSE 28: 53.03581790862346\n",
      "MSE 29: 52.64100558086506\n",
      "MSE 30: 48.384918916572644\n",
      "MSE 31: 54.45677608502336\n",
      "MSE 32: 65.0235270651413\n",
      "MSE 33: 52.280843098958336\n",
      "MSE 34: 50.84068100815066\n",
      "MSE 35: 45.83617087552462\n",
      "MSE 36: 60.85918259852141\n",
      "MSE 37: 53.580956881871884\n",
      "MSE 38: 51.762874739069765\n",
      "MSE 39: 48.6207152061092\n",
      "MSE 40: 44.92992772716534\n",
      "MSE 41: 54.920336356055\n",
      "MSE 42: 55.61805537449118\n",
      "MSE 43: 48.80688064846792\n",
      "MSE 44: 53.82909578490026\n",
      "MSE 45: 53.222726223152435\n",
      "MSE 46: 51.67762419321004\n",
      "MSE 47: 54.099198782714055\n",
      "MSE 48: 50.74818872248085\n",
      "MSE 49: 52.138137619858036\n",
      "MSE 50: 53.83761379402432\n",
      "\n",
      "\n",
      "Printing the  mean and standard deviation of 50 mean squared errors without normalized data. Total number of epochs for each training is: 50\n",
      "\n",
      "Mean: 52.87416651869107\n",
      "Standard Deviation: 5.374176872188184\n"
     ]
    }
   ],
   "source": [
    "total_mean_squared_errors = 50\n",
    "#The total number of times the model will be trained and evaluated.\n",
    "epochs = 50\n",
    "mean_squared_errors = []\n",
    "#An empty list to store the mean squared errors for each run.\n",
    "\n",
    "#\n",
    "for i in range(0, total_mean_squared_errors):\n",
    "    X_train, X_test, y_train, y_test = train_test_split(predictors, target, test_size=0.3, random_state=i)\n",
    "    model.fit(X_train, y_train, epochs=epochs, verbose=0)\n",
    "    MSE = model.evaluate(X_test, y_test, verbose=0)\n",
    "    print(\"MSE \"+str(i+1)+\": \"+str(MSE))\n",
    "    y_pred = model.predict(X_test)\n",
    "    mean_square_error = mean_squared_error(y_test, y_pred)\n",
    "    mean_squared_errors.append(mean_square_error)\n",
    "\n",
    "#Convert the list of mean squared errors to a NumPy array for easier calculation.\n",
    "#Calculate the mean and standard deviation of the mean squared errors.\n",
    "mean_squared_errors = np.array(mean_squared_errors)\n",
    "mean = np.mean(mean_squared_errors)\n",
    "standard_deviation = np.std(mean_squared_errors)\n",
    "\n",
    "print('\\n')\n",
    "print(\"Printing the  mean and standard deviation of \" +str(total_mean_squared_errors) + \" mean squared errors without normalized data. Total number of epochs for each training is: \" +str(epochs) + \"\\n\")\n",
    "print(\"Mean: \"+str(mean))\n",
    "print(\"Standard Deviation: \"+str(standard_deviation))"
   ]
  }
 ],
 "metadata": {
  "kernelspec": {
   "display_name": "Python",
   "language": "python",
   "name": "conda-env-python-py"
  },
  "language_info": {
   "codemirror_mode": {
    "name": "ipython",
    "version": 3
   },
   "file_extension": ".py",
   "mimetype": "text/x-python",
   "name": "python",
   "nbconvert_exporter": "python",
   "pygments_lexer": "ipython3",
   "version": "3.7.12"
  }
 },
 "nbformat": 4,
 "nbformat_minor": 5
}
