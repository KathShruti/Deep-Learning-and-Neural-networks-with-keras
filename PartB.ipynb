{
 "cells": [
  {
   "cell_type": "code",
   "execution_count": 1,
   "id": "4e1d148b-7437-47d1-8c9f-963c272b02d3",
   "metadata": {
    "tags": []
   },
   "outputs": [],
   "source": [
    "import pandas as pd\n",
    "import numpy as np\n",
    "#imported 2 libraries called the numpy and the pandas"
   ]
  },
  {
   "cell_type": "markdown",
   "id": "9eb52742-8b53-4cf0-8944-f78e6ecd9b28",
   "metadata": {
    "tags": []
   },
   "source": [
    "This is the data being used for the peer graded assessment.\n",
    "The dataset revolves around the compressive strength of various concrete samples, depending on the quantities of diverse components employed in their creation. These components encompass:\n",
    "\n",
    "1) Cement\n",
    "\n",
    "2) Blast Furnace Slag\n",
    "\n",
    "3) Fly Ash\n",
    "\n",
    "4) Water\n",
    "\n",
    "5) Superplasticizer\n",
    "\n",
    "6) Coarse Aggregate\n",
    "\n",
    "7) Fine Aggregate"
   ]
  },
  {
   "cell_type": "code",
   "execution_count": 3,
   "id": "f26c8e3b-d10e-49ed-b3e2-a5ee47f75caa",
   "metadata": {
    "tags": []
   },
   "outputs": [
    {
     "data": {
      "text/html": [
       "<div>\n",
       "<style scoped>\n",
       "    .dataframe tbody tr th:only-of-type {\n",
       "        vertical-align: middle;\n",
       "    }\n",
       "\n",
       "    .dataframe tbody tr th {\n",
       "        vertical-align: top;\n",
       "    }\n",
       "\n",
       "    .dataframe thead th {\n",
       "        text-align: right;\n",
       "    }\n",
       "</style>\n",
       "<table border=\"1\" class=\"dataframe\">\n",
       "  <thead>\n",
       "    <tr style=\"text-align: right;\">\n",
       "      <th></th>\n",
       "      <th>Cement</th>\n",
       "      <th>Blast Furnace Slag</th>\n",
       "      <th>Fly Ash</th>\n",
       "      <th>Water</th>\n",
       "      <th>Superplasticizer</th>\n",
       "      <th>Coarse Aggregate</th>\n",
       "      <th>Fine Aggregate</th>\n",
       "      <th>Age</th>\n",
       "      <th>Strength</th>\n",
       "    </tr>\n",
       "  </thead>\n",
       "  <tbody>\n",
       "    <tr>\n",
       "      <th>0</th>\n",
       "      <td>540.0</td>\n",
       "      <td>0.0</td>\n",
       "      <td>0.0</td>\n",
       "      <td>162.0</td>\n",
       "      <td>2.5</td>\n",
       "      <td>1040.0</td>\n",
       "      <td>676.0</td>\n",
       "      <td>28</td>\n",
       "      <td>79.99</td>\n",
       "    </tr>\n",
       "    <tr>\n",
       "      <th>1</th>\n",
       "      <td>540.0</td>\n",
       "      <td>0.0</td>\n",
       "      <td>0.0</td>\n",
       "      <td>162.0</td>\n",
       "      <td>2.5</td>\n",
       "      <td>1055.0</td>\n",
       "      <td>676.0</td>\n",
       "      <td>28</td>\n",
       "      <td>61.89</td>\n",
       "    </tr>\n",
       "    <tr>\n",
       "      <th>2</th>\n",
       "      <td>332.5</td>\n",
       "      <td>142.5</td>\n",
       "      <td>0.0</td>\n",
       "      <td>228.0</td>\n",
       "      <td>0.0</td>\n",
       "      <td>932.0</td>\n",
       "      <td>594.0</td>\n",
       "      <td>270</td>\n",
       "      <td>40.27</td>\n",
       "    </tr>\n",
       "    <tr>\n",
       "      <th>3</th>\n",
       "      <td>332.5</td>\n",
       "      <td>142.5</td>\n",
       "      <td>0.0</td>\n",
       "      <td>228.0</td>\n",
       "      <td>0.0</td>\n",
       "      <td>932.0</td>\n",
       "      <td>594.0</td>\n",
       "      <td>365</td>\n",
       "      <td>41.05</td>\n",
       "    </tr>\n",
       "    <tr>\n",
       "      <th>4</th>\n",
       "      <td>198.6</td>\n",
       "      <td>132.4</td>\n",
       "      <td>0.0</td>\n",
       "      <td>192.0</td>\n",
       "      <td>0.0</td>\n",
       "      <td>978.4</td>\n",
       "      <td>825.5</td>\n",
       "      <td>360</td>\n",
       "      <td>44.30</td>\n",
       "    </tr>\n",
       "  </tbody>\n",
       "</table>\n",
       "</div>"
      ],
      "text/plain": [
       "   Cement  Blast Furnace Slag  Fly Ash  Water  Superplasticizer  \\\n",
       "0   540.0                 0.0      0.0  162.0               2.5   \n",
       "1   540.0                 0.0      0.0  162.0               2.5   \n",
       "2   332.5               142.5      0.0  228.0               0.0   \n",
       "3   332.5               142.5      0.0  228.0               0.0   \n",
       "4   198.6               132.4      0.0  192.0               0.0   \n",
       "\n",
       "   Coarse Aggregate  Fine Aggregate  Age  Strength  \n",
       "0            1040.0           676.0   28     79.99  \n",
       "1            1055.0           676.0   28     61.89  \n",
       "2             932.0           594.0  270     40.27  \n",
       "3             932.0           594.0  365     41.05  \n",
       "4             978.4           825.5  360     44.30  "
      ]
     },
     "execution_count": 3,
     "metadata": {},
     "output_type": "execute_result"
    }
   ],
   "source": [
    "#Reading the data through the data dataframe \n",
    "concrete_data = pd.read_csv('concrete_data.csv')\n",
    "concrete_data.head()  #printing the first five rows of the dataset."
   ]
  },
  {
   "cell_type": "markdown",
   "id": "2f1a5421-4ba5-4214-92b9-6359d22e8782",
   "metadata": {},
   "source": [
    "So here we know that the first concrete sample has 540 cubic meter of cement, zero blast furnace slag, zero fly ash, 162 cubic meter of water,2.5 cubic meter of superplatsicizer, 1040 cubic meter of coarse aggregate, 676 cubic meter of fine aggregate, 28 is the age and 79.99 is the strength."
   ]
  },
  {
   "cell_type": "code",
   "execution_count": 4,
   "id": "1dc928af-fa0d-4789-ab78-305e5d3f5294",
   "metadata": {
    "tags": []
   },
   "outputs": [
    {
     "data": {
      "text/plain": [
       "(1030, 9)"
      ]
     },
     "execution_count": 4,
     "metadata": {},
     "output_type": "execute_result"
    }
   ],
   "source": [
    "#Checking the total number of data points \n",
    "concrete_data.shape"
   ]
  },
  {
   "cell_type": "code",
   "execution_count": 5,
   "id": "417fb8c8-827a-431f-975a-342545e4b4e1",
   "metadata": {
    "tags": []
   },
   "outputs": [
    {
     "data": {
      "text/html": [
       "<div>\n",
       "<style scoped>\n",
       "    .dataframe tbody tr th:only-of-type {\n",
       "        vertical-align: middle;\n",
       "    }\n",
       "\n",
       "    .dataframe tbody tr th {\n",
       "        vertical-align: top;\n",
       "    }\n",
       "\n",
       "    .dataframe thead th {\n",
       "        text-align: right;\n",
       "    }\n",
       "</style>\n",
       "<table border=\"1\" class=\"dataframe\">\n",
       "  <thead>\n",
       "    <tr style=\"text-align: right;\">\n",
       "      <th></th>\n",
       "      <th>Cement</th>\n",
       "      <th>Blast Furnace Slag</th>\n",
       "      <th>Fly Ash</th>\n",
       "      <th>Water</th>\n",
       "      <th>Superplasticizer</th>\n",
       "      <th>Coarse Aggregate</th>\n",
       "      <th>Fine Aggregate</th>\n",
       "      <th>Age</th>\n",
       "      <th>Strength</th>\n",
       "    </tr>\n",
       "  </thead>\n",
       "  <tbody>\n",
       "    <tr>\n",
       "      <th>count</th>\n",
       "      <td>1030.000000</td>\n",
       "      <td>1030.000000</td>\n",
       "      <td>1030.000000</td>\n",
       "      <td>1030.000000</td>\n",
       "      <td>1030.000000</td>\n",
       "      <td>1030.000000</td>\n",
       "      <td>1030.000000</td>\n",
       "      <td>1030.000000</td>\n",
       "      <td>1030.000000</td>\n",
       "    </tr>\n",
       "    <tr>\n",
       "      <th>mean</th>\n",
       "      <td>281.167864</td>\n",
       "      <td>73.895825</td>\n",
       "      <td>54.188350</td>\n",
       "      <td>181.567282</td>\n",
       "      <td>6.204660</td>\n",
       "      <td>972.918932</td>\n",
       "      <td>773.580485</td>\n",
       "      <td>45.662136</td>\n",
       "      <td>35.817961</td>\n",
       "    </tr>\n",
       "    <tr>\n",
       "      <th>std</th>\n",
       "      <td>104.506364</td>\n",
       "      <td>86.279342</td>\n",
       "      <td>63.997004</td>\n",
       "      <td>21.354219</td>\n",
       "      <td>5.973841</td>\n",
       "      <td>77.753954</td>\n",
       "      <td>80.175980</td>\n",
       "      <td>63.169912</td>\n",
       "      <td>16.705742</td>\n",
       "    </tr>\n",
       "    <tr>\n",
       "      <th>min</th>\n",
       "      <td>102.000000</td>\n",
       "      <td>0.000000</td>\n",
       "      <td>0.000000</td>\n",
       "      <td>121.800000</td>\n",
       "      <td>0.000000</td>\n",
       "      <td>801.000000</td>\n",
       "      <td>594.000000</td>\n",
       "      <td>1.000000</td>\n",
       "      <td>2.330000</td>\n",
       "    </tr>\n",
       "    <tr>\n",
       "      <th>25%</th>\n",
       "      <td>192.375000</td>\n",
       "      <td>0.000000</td>\n",
       "      <td>0.000000</td>\n",
       "      <td>164.900000</td>\n",
       "      <td>0.000000</td>\n",
       "      <td>932.000000</td>\n",
       "      <td>730.950000</td>\n",
       "      <td>7.000000</td>\n",
       "      <td>23.710000</td>\n",
       "    </tr>\n",
       "    <tr>\n",
       "      <th>50%</th>\n",
       "      <td>272.900000</td>\n",
       "      <td>22.000000</td>\n",
       "      <td>0.000000</td>\n",
       "      <td>185.000000</td>\n",
       "      <td>6.400000</td>\n",
       "      <td>968.000000</td>\n",
       "      <td>779.500000</td>\n",
       "      <td>28.000000</td>\n",
       "      <td>34.445000</td>\n",
       "    </tr>\n",
       "    <tr>\n",
       "      <th>75%</th>\n",
       "      <td>350.000000</td>\n",
       "      <td>142.950000</td>\n",
       "      <td>118.300000</td>\n",
       "      <td>192.000000</td>\n",
       "      <td>10.200000</td>\n",
       "      <td>1029.400000</td>\n",
       "      <td>824.000000</td>\n",
       "      <td>56.000000</td>\n",
       "      <td>46.135000</td>\n",
       "    </tr>\n",
       "    <tr>\n",
       "      <th>max</th>\n",
       "      <td>540.000000</td>\n",
       "      <td>359.400000</td>\n",
       "      <td>200.100000</td>\n",
       "      <td>247.000000</td>\n",
       "      <td>32.200000</td>\n",
       "      <td>1145.000000</td>\n",
       "      <td>992.600000</td>\n",
       "      <td>365.000000</td>\n",
       "      <td>82.600000</td>\n",
       "    </tr>\n",
       "  </tbody>\n",
       "</table>\n",
       "</div>"
      ],
      "text/plain": [
       "            Cement  Blast Furnace Slag      Fly Ash        Water  \\\n",
       "count  1030.000000         1030.000000  1030.000000  1030.000000   \n",
       "mean    281.167864           73.895825    54.188350   181.567282   \n",
       "std     104.506364           86.279342    63.997004    21.354219   \n",
       "min     102.000000            0.000000     0.000000   121.800000   \n",
       "25%     192.375000            0.000000     0.000000   164.900000   \n",
       "50%     272.900000           22.000000     0.000000   185.000000   \n",
       "75%     350.000000          142.950000   118.300000   192.000000   \n",
       "max     540.000000          359.400000   200.100000   247.000000   \n",
       "\n",
       "       Superplasticizer  Coarse Aggregate  Fine Aggregate          Age  \\\n",
       "count       1030.000000       1030.000000     1030.000000  1030.000000   \n",
       "mean           6.204660        972.918932      773.580485    45.662136   \n",
       "std            5.973841         77.753954       80.175980    63.169912   \n",
       "min            0.000000        801.000000      594.000000     1.000000   \n",
       "25%            0.000000        932.000000      730.950000     7.000000   \n",
       "50%            6.400000        968.000000      779.500000    28.000000   \n",
       "75%           10.200000       1029.400000      824.000000    56.000000   \n",
       "max           32.200000       1145.000000      992.600000   365.000000   \n",
       "\n",
       "          Strength  \n",
       "count  1030.000000  \n",
       "mean     35.817961  \n",
       "std      16.705742  \n",
       "min       2.330000  \n",
       "25%      23.710000  \n",
       "50%      34.445000  \n",
       "75%      46.135000  \n",
       "max      82.600000  "
      ]
     },
     "execution_count": 5,
     "metadata": {},
     "output_type": "execute_result"
    }
   ],
   "source": [
    "#Checking data for any missing values \n",
    "concrete_data.describe()"
   ]
  },
  {
   "cell_type": "code",
   "execution_count": 6,
   "id": "444048b9-140e-47c8-8d61-e7935971dd95",
   "metadata": {
    "tags": []
   },
   "outputs": [
    {
     "data": {
      "text/plain": [
       "Cement                0\n",
       "Blast Furnace Slag    0\n",
       "Fly Ash               0\n",
       "Water                 0\n",
       "Superplasticizer      0\n",
       "Coarse Aggregate      0\n",
       "Fine Aggregate        0\n",
       "Age                   0\n",
       "Strength              0\n",
       "dtype: int64"
      ]
     },
     "execution_count": 6,
     "metadata": {},
     "output_type": "execute_result"
    }
   ],
   "source": [
    "# Removing all null data from the dataset \n",
    "concrete_data.isnull().sum()"
   ]
  },
  {
   "cell_type": "markdown",
   "id": "ca87f175-a00f-42d4-940b-20831b868d08",
   "metadata": {},
   "source": [
    "As the data has no null values so now we can use this data to train our model."
   ]
  },
  {
   "cell_type": "markdown",
   "id": "45aed425-430b-496a-9f43-46fcb5f0d3ac",
   "metadata": {},
   "source": [
    "For creating a Regression or a classification model we always need to divide the columns into two called the predictors and the target."
   ]
  },
  {
   "cell_type": "code",
   "execution_count": 7,
   "id": "767bf1f5-853d-485e-ac69-da0f1db9b1bf",
   "metadata": {
    "tags": []
   },
   "outputs": [],
   "source": [
    "# Our target variable is Strength and others columns are the predictors\n",
    "concrete_data_columns = concrete_data.columns\n",
    "predictors = concrete_data[concrete_data_columns[concrete_data_columns != 'Strength']] # Every columns except Strength\n",
    "target = concrete_data['Strength']  # Strength column"
   ]
  },
  {
   "cell_type": "markdown",
   "id": "581b12eb-bb29-4f9a-9d10-f6731a6c5c36",
   "metadata": {},
   "source": [
    "Printing the predictors and the targets just to check the output"
   ]
  },
  {
   "cell_type": "code",
   "execution_count": 10,
   "id": "6602a973-5f87-432f-884f-ac26b9d960f7",
   "metadata": {
    "tags": []
   },
   "outputs": [
    {
     "data": {
      "text/plain": [
       "0    79.99\n",
       "1    61.89\n",
       "2    40.27\n",
       "3    41.05\n",
       "4    44.30\n",
       "Name: Strength, dtype: float64"
      ]
     },
     "execution_count": 10,
     "metadata": {},
     "output_type": "execute_result"
    }
   ],
   "source": [
    "target.head()  #As we have only 1 target variable so one column gets printed"
   ]
  },
  {
   "cell_type": "code",
   "execution_count": 11,
   "id": "39f33d75-0f12-43e1-a1db-d160de1eff81",
   "metadata": {
    "tags": []
   },
   "outputs": [
    {
     "data": {
      "text/html": [
       "<div>\n",
       "<style scoped>\n",
       "    .dataframe tbody tr th:only-of-type {\n",
       "        vertical-align: middle;\n",
       "    }\n",
       "\n",
       "    .dataframe tbody tr th {\n",
       "        vertical-align: top;\n",
       "    }\n",
       "\n",
       "    .dataframe thead th {\n",
       "        text-align: right;\n",
       "    }\n",
       "</style>\n",
       "<table border=\"1\" class=\"dataframe\">\n",
       "  <thead>\n",
       "    <tr style=\"text-align: right;\">\n",
       "      <th></th>\n",
       "      <th>Cement</th>\n",
       "      <th>Blast Furnace Slag</th>\n",
       "      <th>Fly Ash</th>\n",
       "      <th>Water</th>\n",
       "      <th>Superplasticizer</th>\n",
       "      <th>Coarse Aggregate</th>\n",
       "      <th>Fine Aggregate</th>\n",
       "      <th>Age</th>\n",
       "    </tr>\n",
       "  </thead>\n",
       "  <tbody>\n",
       "    <tr>\n",
       "      <th>0</th>\n",
       "      <td>540.0</td>\n",
       "      <td>0.0</td>\n",
       "      <td>0.0</td>\n",
       "      <td>162.0</td>\n",
       "      <td>2.5</td>\n",
       "      <td>1040.0</td>\n",
       "      <td>676.0</td>\n",
       "      <td>28</td>\n",
       "    </tr>\n",
       "    <tr>\n",
       "      <th>1</th>\n",
       "      <td>540.0</td>\n",
       "      <td>0.0</td>\n",
       "      <td>0.0</td>\n",
       "      <td>162.0</td>\n",
       "      <td>2.5</td>\n",
       "      <td>1055.0</td>\n",
       "      <td>676.0</td>\n",
       "      <td>28</td>\n",
       "    </tr>\n",
       "    <tr>\n",
       "      <th>2</th>\n",
       "      <td>332.5</td>\n",
       "      <td>142.5</td>\n",
       "      <td>0.0</td>\n",
       "      <td>228.0</td>\n",
       "      <td>0.0</td>\n",
       "      <td>932.0</td>\n",
       "      <td>594.0</td>\n",
       "      <td>270</td>\n",
       "    </tr>\n",
       "    <tr>\n",
       "      <th>3</th>\n",
       "      <td>332.5</td>\n",
       "      <td>142.5</td>\n",
       "      <td>0.0</td>\n",
       "      <td>228.0</td>\n",
       "      <td>0.0</td>\n",
       "      <td>932.0</td>\n",
       "      <td>594.0</td>\n",
       "      <td>365</td>\n",
       "    </tr>\n",
       "    <tr>\n",
       "      <th>4</th>\n",
       "      <td>198.6</td>\n",
       "      <td>132.4</td>\n",
       "      <td>0.0</td>\n",
       "      <td>192.0</td>\n",
       "      <td>0.0</td>\n",
       "      <td>978.4</td>\n",
       "      <td>825.5</td>\n",
       "      <td>360</td>\n",
       "    </tr>\n",
       "  </tbody>\n",
       "</table>\n",
       "</div>"
      ],
      "text/plain": [
       "   Cement  Blast Furnace Slag  Fly Ash  Water  Superplasticizer  \\\n",
       "0   540.0                 0.0      0.0  162.0               2.5   \n",
       "1   540.0                 0.0      0.0  162.0               2.5   \n",
       "2   332.5               142.5      0.0  228.0               0.0   \n",
       "3   332.5               142.5      0.0  228.0               0.0   \n",
       "4   198.6               132.4      0.0  192.0               0.0   \n",
       "\n",
       "   Coarse Aggregate  Fine Aggregate  Age  \n",
       "0            1040.0           676.0   28  \n",
       "1            1055.0           676.0   28  \n",
       "2             932.0           594.0  270  \n",
       "3             932.0           594.0  365  \n",
       "4             978.4           825.5  360  "
      ]
     },
     "execution_count": 11,
     "metadata": {},
     "output_type": "execute_result"
    }
   ],
   "source": [
    "predictors.head()"
   ]
  },
  {
   "cell_type": "markdown",
   "id": "8ab22fa1-10f0-40a9-87fa-324c9b4674f4",
   "metadata": {},
   "source": [
    "After printing the predictors and the target lets normalize the version of the data by subtracting the mean and diving by the standard deviation"
   ]
  },
  {
   "cell_type": "code",
   "execution_count": 41,
   "id": "66f0e39e-4bef-4f05-97e7-8e2089fb2784",
   "metadata": {
    "tags": []
   },
   "outputs": [
    {
     "data": {
      "text/html": [
       "<div>\n",
       "<style scoped>\n",
       "    .dataframe tbody tr th:only-of-type {\n",
       "        vertical-align: middle;\n",
       "    }\n",
       "\n",
       "    .dataframe tbody tr th {\n",
       "        vertical-align: top;\n",
       "    }\n",
       "\n",
       "    .dataframe thead th {\n",
       "        text-align: right;\n",
       "    }\n",
       "</style>\n",
       "<table border=\"1\" class=\"dataframe\">\n",
       "  <thead>\n",
       "    <tr style=\"text-align: right;\">\n",
       "      <th></th>\n",
       "      <th>Cement</th>\n",
       "      <th>Blast Furnace Slag</th>\n",
       "      <th>Fly Ash</th>\n",
       "      <th>Water</th>\n",
       "      <th>Superplasticizer</th>\n",
       "      <th>Coarse Aggregate</th>\n",
       "      <th>Fine Aggregate</th>\n",
       "      <th>Age</th>\n",
       "    </tr>\n",
       "  </thead>\n",
       "  <tbody>\n",
       "    <tr>\n",
       "      <th>0</th>\n",
       "      <td>2.476712</td>\n",
       "      <td>-0.856472</td>\n",
       "      <td>-0.846733</td>\n",
       "      <td>-0.916319</td>\n",
       "      <td>-0.620147</td>\n",
       "      <td>0.862735</td>\n",
       "      <td>-1.217079</td>\n",
       "      <td>-0.279597</td>\n",
       "    </tr>\n",
       "    <tr>\n",
       "      <th>1</th>\n",
       "      <td>2.476712</td>\n",
       "      <td>-0.856472</td>\n",
       "      <td>-0.846733</td>\n",
       "      <td>-0.916319</td>\n",
       "      <td>-0.620147</td>\n",
       "      <td>1.055651</td>\n",
       "      <td>-1.217079</td>\n",
       "      <td>-0.279597</td>\n",
       "    </tr>\n",
       "    <tr>\n",
       "      <th>2</th>\n",
       "      <td>0.491187</td>\n",
       "      <td>0.795140</td>\n",
       "      <td>-0.846733</td>\n",
       "      <td>2.174405</td>\n",
       "      <td>-1.038638</td>\n",
       "      <td>-0.526262</td>\n",
       "      <td>-2.239829</td>\n",
       "      <td>3.551340</td>\n",
       "    </tr>\n",
       "    <tr>\n",
       "      <th>3</th>\n",
       "      <td>0.491187</td>\n",
       "      <td>0.795140</td>\n",
       "      <td>-0.846733</td>\n",
       "      <td>2.174405</td>\n",
       "      <td>-1.038638</td>\n",
       "      <td>-0.526262</td>\n",
       "      <td>-2.239829</td>\n",
       "      <td>5.055221</td>\n",
       "    </tr>\n",
       "    <tr>\n",
       "      <th>4</th>\n",
       "      <td>-0.790075</td>\n",
       "      <td>0.678079</td>\n",
       "      <td>-0.846733</td>\n",
       "      <td>0.488555</td>\n",
       "      <td>-1.038638</td>\n",
       "      <td>0.070492</td>\n",
       "      <td>0.647569</td>\n",
       "      <td>4.976069</td>\n",
       "    </tr>\n",
       "  </tbody>\n",
       "</table>\n",
       "</div>"
      ],
      "text/plain": [
       "     Cement  Blast Furnace Slag   Fly Ash     Water  Superplasticizer  \\\n",
       "0  2.476712           -0.856472 -0.846733 -0.916319         -0.620147   \n",
       "1  2.476712           -0.856472 -0.846733 -0.916319         -0.620147   \n",
       "2  0.491187            0.795140 -0.846733  2.174405         -1.038638   \n",
       "3  0.491187            0.795140 -0.846733  2.174405         -1.038638   \n",
       "4 -0.790075            0.678079 -0.846733  0.488555         -1.038638   \n",
       "\n",
       "   Coarse Aggregate  Fine Aggregate       Age  \n",
       "0          0.862735       -1.217079 -0.279597  \n",
       "1          1.055651       -1.217079 -0.279597  \n",
       "2         -0.526262       -2.239829  3.551340  \n",
       "3         -0.526262       -2.239829  5.055221  \n",
       "4          0.070492        0.647569  4.976069  "
      ]
     },
     "execution_count": 41,
     "metadata": {},
     "output_type": "execute_result"
    }
   ],
   "source": [
    "predictors_norm = (predictors - predictors.mean()) / predictors.std()\n",
    "predictors_norm.head()"
   ]
  },
  {
   "cell_type": "code",
   "execution_count": 55,
   "id": "bfa46d89-f728-4599-aded-821fb2635c69",
   "metadata": {
    "tags": []
   },
   "outputs": [
    {
     "data": {
      "text/plain": [
       "8"
      ]
     },
     "execution_count": 55,
     "metadata": {},
     "output_type": "execute_result"
    }
   ],
   "source": [
    "#Checking the number of predictors \n",
    "num_cols = predictors_norm.shape[1]\n",
    "num_cols"
   ]
  },
  {
   "cell_type": "markdown",
   "id": "0d75e42d-3e23-469d-b650-615ca3797f33",
   "metadata": {},
   "source": [
    "Moving forward we import keras and start building our regression model"
   ]
  },
  {
   "cell_type": "code",
   "execution_count": 56,
   "id": "1e010d80-6cb5-4172-9027-e402396a8012",
   "metadata": {
    "tags": []
   },
   "outputs": [],
   "source": [
    "import keras     #Keras is always imported from the backend tensorflow"
   ]
  },
  {
   "cell_type": "code",
   "execution_count": 57,
   "id": "d847ef17-c67c-43ca-ac08-1aecf53d38e0",
   "metadata": {
    "tags": []
   },
   "outputs": [],
   "source": [
    "from keras.models import Sequential    #We are importing the sequential layer from keras which helps us to create a model layer by layer in a linear stack\n",
    "from keras.layers import Dense    #A dense layer is imported from layers to form a fully connected neural network layer"
   ]
  },
  {
   "cell_type": "markdown",
   "id": "a4e85bc1-91b4-40b1-9b9f-4e3b68031a1a",
   "metadata": {},
   "source": [
    "Creating the regression model"
   ]
  },
  {
   "cell_type": "code",
   "execution_count": 58,
   "id": "09006416-2aff-466d-b3eb-27a3f8ee1182",
   "metadata": {
    "tags": []
   },
   "outputs": [],
   "source": [
    "def regression_model():    #Created a function to create a regression model.\n",
    "    model = Sequential()\n",
    "    model.add(Dense(10, activation='relu', input_shape=(num_cols,)))   #This contains 10 nodes with the relu activation function(1st hidden layer)\n",
    "    model.add(Dense(1))  #Ouput layer\n",
    "\n",
    "    model.compile(optimizer='adam', loss='mean_squared_error')  #Compiling the model with the optimizer adam and keeping the loss as MSE.\n",
    "    return model"
   ]
  },
  {
   "cell_type": "markdown",
   "id": "322e941c-53b1-4341-acb0-c408cbaf93aa",
   "metadata": {},
   "source": [
    "Now we want to split the data so we will have to import sklearn to train and test the data"
   ]
  },
  {
   "cell_type": "code",
   "execution_count": 59,
   "id": "82615e1b-a547-4dfe-b6bf-8f3c69d205ad",
   "metadata": {
    "tags": []
   },
   "outputs": [],
   "source": [
    "from sklearn.model_selection import train_test_split"
   ]
  },
  {
   "cell_type": "markdown",
   "id": "07b676cd-10d4-4861-8e12-5bdd7599d356",
   "metadata": {},
   "source": [
    "Splitting the data into 70 % training and 30% testing data"
   ]
  },
  {
   "cell_type": "code",
   "execution_count": 60,
   "id": "cdbd5063-8c35-4308-ab56-f55cd454ab9f",
   "metadata": {
    "tags": []
   },
   "outputs": [],
   "source": [
    "X_train, X_test, y_train, y_test = train_test_split(predictors_norm, target, test_size=0.3, random_state=42)"
   ]
  },
  {
   "cell_type": "markdown",
   "id": "00216f67-c515-42ed-bf94-d91087a23d3b",
   "metadata": {},
   "source": [
    "Now we have to build our model so we call the regression function here that we created above"
   ]
  },
  {
   "cell_type": "code",
   "execution_count": 61,
   "id": "c5884075-f349-4422-b308-ce9b887228b9",
   "metadata": {
    "tags": []
   },
   "outputs": [],
   "source": [
    "#Calling our model here\n",
    "model = regression_model()\n"
   ]
  },
  {
   "cell_type": "code",
   "execution_count": 62,
   "id": "bd6bcd5e-05cb-415e-a082-3a69e125a95c",
   "metadata": {
    "tags": []
   },
   "outputs": [
    {
     "name": "stdout",
     "output_type": "stream",
     "text": [
      "Epoch 1/50\n",
      "721/721 [==============================] - 0s 306us/step - loss: 1586.7317\n",
      "Epoch 2/50\n",
      "721/721 [==============================] - 0s 101us/step - loss: 1566.6376\n",
      "Epoch 3/50\n",
      "721/721 [==============================] - 0s 87us/step - loss: 1546.9641\n",
      "Epoch 4/50\n",
      "721/721 [==============================] - 0s 105us/step - loss: 1527.1959\n",
      "Epoch 5/50\n",
      "721/721 [==============================] - 0s 85us/step - loss: 1507.6239\n",
      "Epoch 6/50\n",
      "721/721 [==============================] - 0s 84us/step - loss: 1487.6970\n",
      "Epoch 7/50\n",
      "721/721 [==============================] - 0s 78us/step - loss: 1467.7182\n",
      "Epoch 8/50\n",
      "721/721 [==============================] - 0s 61us/step - loss: 1447.1445\n",
      "Epoch 9/50\n",
      "721/721 [==============================] - 0s 74us/step - loss: 1426.3094\n",
      "Epoch 10/50\n",
      "721/721 [==============================] - 0s 58us/step - loss: 1404.9607\n",
      "Epoch 11/50\n",
      "721/721 [==============================] - 0s 58us/step - loss: 1382.8026\n",
      "Epoch 12/50\n",
      "721/721 [==============================] - 0s 59us/step - loss: 1360.6838\n",
      "Epoch 13/50\n",
      "721/721 [==============================] - 0s 71us/step - loss: 1337.1314\n",
      "Epoch 14/50\n",
      "721/721 [==============================] - 0s 62us/step - loss: 1313.5871\n",
      "Epoch 15/50\n",
      "721/721 [==============================] - 0s 61us/step - loss: 1289.0362\n",
      "Epoch 16/50\n",
      "721/721 [==============================] - 0s 68us/step - loss: 1263.8127\n",
      "Epoch 17/50\n",
      "721/721 [==============================] - 0s 56us/step - loss: 1238.5321\n",
      "Epoch 18/50\n",
      "721/721 [==============================] - 0s 56us/step - loss: 1212.4695\n",
      "Epoch 19/50\n",
      "721/721 [==============================] - 0s 55us/step - loss: 1185.8349\n",
      "Epoch 20/50\n",
      "721/721 [==============================] - 0s 51us/step - loss: 1158.8567\n",
      "Epoch 21/50\n",
      "721/721 [==============================] - 0s 45us/step - loss: 1131.2739\n",
      "Epoch 22/50\n",
      "721/721 [==============================] - 0s 52us/step - loss: 1103.8641\n",
      "Epoch 23/50\n",
      "721/721 [==============================] - 0s 52us/step - loss: 1075.6594\n",
      "Epoch 24/50\n",
      "721/721 [==============================] - 0s 54us/step - loss: 1046.8732\n",
      "Epoch 25/50\n",
      "721/721 [==============================] - 0s 52us/step - loss: 1018.7392\n",
      "Epoch 26/50\n",
      "721/721 [==============================] - 0s 59us/step - loss: 989.9448\n",
      "Epoch 27/50\n",
      "721/721 [==============================] - 0s 52us/step - loss: 960.8876\n",
      "Epoch 28/50\n",
      "721/721 [==============================] - 0s 52us/step - loss: 932.0894\n",
      "Epoch 29/50\n",
      "721/721 [==============================] - 0s 51us/step - loss: 903.0966\n",
      "Epoch 30/50\n",
      "721/721 [==============================] - 0s 52us/step - loss: 874.5778\n",
      "Epoch 31/50\n",
      "721/721 [==============================] - 0s 54us/step - loss: 845.9236\n",
      "Epoch 32/50\n",
      "721/721 [==============================] - 0s 57us/step - loss: 817.3213\n",
      "Epoch 33/50\n",
      "721/721 [==============================] - 0s 67us/step - loss: 789.3048\n",
      "Epoch 34/50\n",
      "721/721 [==============================] - 0s 48us/step - loss: 761.3161\n",
      "Epoch 35/50\n",
      "721/721 [==============================] - 0s 52us/step - loss: 734.1957\n",
      "Epoch 36/50\n",
      "721/721 [==============================] - 0s 44us/step - loss: 707.2261\n",
      "Epoch 37/50\n",
      "721/721 [==============================] - 0s 54us/step - loss: 681.0815\n",
      "Epoch 38/50\n",
      "721/721 [==============================] - 0s 54us/step - loss: 655.5405\n",
      "Epoch 39/50\n",
      "721/721 [==============================] - 0s 53us/step - loss: 630.5822\n",
      "Epoch 40/50\n",
      "721/721 [==============================] - 0s 59us/step - loss: 606.4681\n",
      "Epoch 41/50\n",
      "721/721 [==============================] - 0s 60us/step - loss: 582.4493\n",
      "Epoch 42/50\n",
      "721/721 [==============================] - 0s 56us/step - loss: 559.8288\n",
      "Epoch 43/50\n",
      "721/721 [==============================] - 0s 48us/step - loss: 537.5072\n",
      "Epoch 44/50\n",
      "721/721 [==============================] - 0s 54us/step - loss: 516.2137\n",
      "Epoch 45/50\n",
      "721/721 [==============================] - 0s 52us/step - loss: 495.5266\n",
      "Epoch 46/50\n",
      "721/721 [==============================] - 0s 54us/step - loss: 475.6605\n",
      "Epoch 47/50\n",
      "721/721 [==============================] - 0s 60us/step - loss: 456.8667\n",
      "Epoch 48/50\n",
      "721/721 [==============================] - 0s 55us/step - loss: 438.9155\n",
      "Epoch 49/50\n",
      "721/721 [==============================] - 0s 57us/step - loss: 421.3807\n",
      "Epoch 50/50\n",
      "721/721 [==============================] - 0s 51us/step - loss: 405.2725\n"
     ]
    },
    {
     "data": {
      "text/plain": [
       "<keras.callbacks.History at 0x7f55a4274bd0>"
      ]
     },
     "execution_count": 62,
     "metadata": {},
     "output_type": "execute_result"
    }
   ],
   "source": [
    "#Training our model with epochs=50\n",
    "epochs = 50\n",
    "model.fit(X_train, y_train, epochs=epochs, verbose=1)"
   ]
  },
  {
   "cell_type": "markdown",
   "id": "ea1a8afa-0c52-4ff4-a4bd-7c0b4d46e2be",
   "metadata": {},
   "source": [
    "Now we evaluate the metrics for the model formed "
   ]
  },
  {
   "cell_type": "code",
   "execution_count": 63,
   "id": "8a11d211-3db4-4538-85ef-77a345e1fbf9",
   "metadata": {
    "tags": []
   },
   "outputs": [
    {
     "name": "stdout",
     "output_type": "stream",
     "text": [
      "309/309 [==============================] - 0s 137us/step\n"
     ]
    },
    {
     "data": {
      "text/plain": [
       "379.75879034641105"
      ]
     },
     "execution_count": 63,
     "metadata": {},
     "output_type": "execute_result"
    }
   ],
   "source": [
    "loss_val = model.evaluate(X_test, y_test)\n",
    "y_pred = model.predict(X_test)\n",
    "loss_val"
   ]
  },
  {
   "cell_type": "markdown",
   "id": "064453a9-8e18-4c69-8404-05e97d6023f7",
   "metadata": {},
   "source": [
    "As per the next step we need to compute the mean squared error"
   ]
  },
  {
   "cell_type": "code",
   "execution_count": 64,
   "id": "d25d51dc-5b21-4555-8222-01b2e8dc8a9a",
   "metadata": {
    "tags": []
   },
   "outputs": [],
   "source": [
    "from sklearn.metrics import mean_squared_error"
   ]
  },
  {
   "cell_type": "code",
   "execution_count": 66,
   "id": "8034d046-8114-4450-ac48-c6b68ef3630e",
   "metadata": {
    "tags": []
   },
   "outputs": [
    {
     "name": "stdout",
     "output_type": "stream",
     "text": [
      "379.75878673098555 0.0\n"
     ]
    }
   ],
   "source": [
    "#Printing the mean and standard deviation of the test data \n",
    "mean_square_error = mean_squared_error(y_test, y_pred)\n",
    "mean = np.mean(mean_square_error)\n",
    "standard_deviation = np.std(mean_square_error)\n",
    "print(mean, standard_deviation)"
   ]
  },
  {
   "cell_type": "markdown",
   "id": "4370a4b7-6f79-4861-ac38-c8510451e5d5",
   "metadata": {},
   "source": [
    "Creating a list of 50 mean squared errors."
   ]
  },
  {
   "cell_type": "markdown",
   "id": "dfba69ff-843a-460b-b38a-9749eda3448f",
   "metadata": {},
   "source": [
    "In the code below it iterates through a specified number of training and evaluation cycles (total_mean_squared_errors). In each cycle, the dataset is split into training and testing sets, and a neural network model is trained for a fixed number of epochs. The mean squared error (MSE) is then calculated for the model's predictions on the test set, and both the MSE and the mean squared error between true and predicted values are recorded. After the specified number of cycles, the code calculates and prints the mean and standard deviation of the collected mean squared errors, providing insights into the model's overall performance and its variability across multiple runs."
   ]
  },
  {
   "cell_type": "code",
   "execution_count": 67,
   "id": "c40ca777-49ec-4637-a0cd-ec8a53940360",
   "metadata": {
    "tags": []
   },
   "outputs": [
    {
     "name": "stdout",
     "output_type": "stream",
     "text": [
      "MSE 1: 160.79323239619677\n",
      "MSE 2: 146.63799179719103\n",
      "MSE 3: 92.32815359171154\n",
      "MSE 4: 67.80022983489299\n",
      "MSE 5: 54.448322654156236\n",
      "MSE 6: 52.78622558741893\n",
      "MSE 7: 49.273305380614445\n",
      "MSE 8: 37.825434687839746\n",
      "MSE 9: 37.162871907058275\n",
      "MSE 10: 36.44466685322882\n",
      "MSE 11: 34.9958074254897\n",
      "MSE 12: 33.05420955176492\n",
      "MSE 13: 38.99397486467578\n",
      "MSE 14: 40.86150532941602\n",
      "MSE 15: 32.09869331680841\n",
      "MSE 16: 26.668600495964963\n",
      "MSE 17: 32.73275275369292\n",
      "MSE 18: 31.748672108819957\n",
      "MSE 19: 31.674569521907078\n",
      "MSE 20: 31.5180233581938\n",
      "MSE 21: 29.29480901428025\n",
      "MSE 22: 32.18103780406964\n",
      "MSE 23: 27.308880913990603\n",
      "MSE 24: 29.10627881145786\n",
      "MSE 25: 32.890351144241286\n",
      "MSE 26: 34.6067228348124\n",
      "MSE 27: 27.35724500390704\n",
      "MSE 28: 29.75350922519721\n",
      "MSE 29: 32.99266350385055\n",
      "MSE 30: 30.672754176612038\n",
      "MSE 31: 27.179041371762175\n",
      "MSE 32: 27.053104122865548\n",
      "MSE 33: 27.370280034333756\n",
      "MSE 34: 29.909955799386726\n",
      "MSE 35: 32.64390040524184\n",
      "MSE 36: 35.29638431141677\n",
      "MSE 37: 27.382841829343135\n",
      "MSE 38: 30.517000871183033\n",
      "MSE 39: 30.744028233401597\n",
      "MSE 40: 25.898559348097127\n",
      "MSE 41: 30.98120215949889\n",
      "MSE 42: 26.239246516551788\n",
      "MSE 43: 30.22840714686125\n",
      "MSE 44: 34.673623378222814\n",
      "MSE 45: 32.98868447214269\n",
      "MSE 46: 29.37726323890069\n",
      "MSE 47: 26.426820217984393\n",
      "MSE 48: 29.872079867761112\n",
      "MSE 49: 30.28813001638863\n",
      "MSE 50: 30.915103937044112\n",
      "\n",
      "\n",
      "Printing the  mean and standard deviation of 50 mean squared errors with normalized data. Total number of epochs for each training is: 50\n",
      "\n",
      "Mean: 39.43994248636067\n",
      "Standard Deviation: 25.95323826579556\n"
     ]
    }
   ],
   "source": [
    "total_mean_squared_errors = 50\n",
    "#The total number of times the model will be trained and evaluated.\n",
    "epochs = 50\n",
    "mean_squared_errors = []\n",
    "#An empty list to store the mean squared errors for each run.\n",
    "\n",
    "\n",
    "for i in range(0, total_mean_squared_errors):\n",
    "    X_train, X_test, y_train, y_test = train_test_split(predictors_norm, target, test_size=0.3, random_state=i)\n",
    "    model.fit(X_train, y_train, epochs=epochs, verbose=0)\n",
    "    MSE = model.evaluate(X_test, y_test, verbose=0)\n",
    "    print(\"MSE \"+str(i+1)+\": \"+str(MSE))\n",
    "    y_pred = model.predict(X_test)\n",
    "    mean_square_error = mean_squared_error(y_test, y_pred)\n",
    "    mean_squared_errors.append(mean_square_error)\n",
    "\n",
    "#Convert the list of mean squared errors to a NumPy array for easier calculation.\n",
    "#Calculate the mean and standard deviation of the mean squared errors.\n",
    "mean_squared_errors = np.array(mean_squared_errors)\n",
    "mean = np.mean(mean_squared_errors)\n",
    "standard_deviation = np.std(mean_squared_errors)\n",
    "\n",
    "print('\\n')\n",
    "print(\"Printing the  mean and standard deviation of \" +str(total_mean_squared_errors) + \" mean squared errors with normalized data. Total number of epochs for each training is: \" +str(epochs) + \"\\n\")\n",
    "print(\"Mean: \"+str(mean))\n",
    "print(\"Standard Deviation: \"+str(standard_deviation))"
   ]
  },
  {
   "cell_type": "markdown",
   "id": "83b553e5-397b-473b-bb54-2385ecf9a3aa",
   "metadata": {},
   "source": [
    "Comparing the mean squared errors (MSE) between the two sets of results, one with normalized data and the other without, reveals notable differences in their magnitudes. In the case of the model trained without normalization (Step A), the MSE values range from approximately 45 to 67, with a mean of 52.87 and a standard deviation of 5.37. These values represent the model's performance on the original, non-normalized data.\n",
    "\n",
    "On the other hand, for the model trained with normalized data (Step B), the MSE values span a wider range, from around 26 to 160. The mean MSE is notably lower at 39.44, but the standard deviation is substantially higher at 25.95. This suggests that while the normalized data helps achieve a lower average error, the model's performance exhibits greater variability across different runs compared to the non-normalized scenario.\n",
    "\n",
    "In interpretation, the normalization process seems to have a positive impact on the average performance of the model, as indicated by the lower mean MSE. However, the higher standard deviation in the normalized case suggests that the model's performance can be more inconsistent across different datasets or runs. Further analysis and tuning may be necessary to understand and potentially address the increased variability in the normalized model's performance.\n",
    "\n",
    "\n",
    "\n",
    "\n",
    "\n",
    "\n"
   ]
  }
 ],
 "metadata": {
  "kernelspec": {
   "display_name": "Python",
   "language": "python",
   "name": "conda-env-python-py"
  },
  "language_info": {
   "codemirror_mode": {
    "name": "ipython",
    "version": 3
   },
   "file_extension": ".py",
   "mimetype": "text/x-python",
   "name": "python",
   "nbconvert_exporter": "python",
   "pygments_lexer": "ipython3",
   "version": "3.7.12"
  }
 },
 "nbformat": 4,
 "nbformat_minor": 5
}
